{
  "nbformat": 4,
  "nbformat_minor": 0,
  "metadata": {
    "colab": {
      "name": "Assignment_DS_D7_Mahatma_Abiyoso_Panuluh.ipynb",
      "provenance": [],
      "collapsed_sections": [],
      "include_colab_link": true
    },
    "kernelspec": {
      "name": "python3",
      "display_name": "Python 3"
    },
    "language_info": {
      "name": "python"
    }
  },
  "cells": [
    {
      "cell_type": "markdown",
      "metadata": {
        "id": "view-in-github",
        "colab_type": "text"
      },
      "source": [
        "<a href=\"https://colab.research.google.com/github/mpanuluh/dibimbing-13A/blob/main/Assignment_DS_D7_Mahatma_Abiyoso_Panuluh.ipynb\" target=\"_parent\"><img src=\"https://colab.research.google.com/assets/colab-badge.svg\" alt=\"Open In Colab\"/></a>"
      ]
    },
    {
      "cell_type": "markdown",
      "metadata": {
        "id": "7BJ8lb3v_XZk"
      },
      "source": [
        "#Assignment Data Science Day 7\n",
        "1. Tim data scientist diminta pertolongan oleh CEO ingin meminta beberapa data terkait user.\n",
        "Sehingga tim data scientist diminta membuat data frame dari profil user tersebut. Silahkan buat\n",
        "data frame yang terdiri dari kolom berikut:\n",
        "  1. Nama\n",
        "  2. Tempat lahir\n",
        "  3. Tanggal lahir\n",
        "  4. Tanggal terakhir berbelanja\n",
        "  5. Rata-rata amount belanja per bulan (Rp)\n",
        "  6. Total transaksi per bulan\n",
        "\n",
        "  Buatlah data minimal 5 users.\n",
        "2. Dari data frame tersebut pilihlah user yang paling loyal berbelanja. Dimana user loyal adalah user yang memiliki rata-rata amount belanja per bulan di atas 100 ribu rupiah dan total transaksi per bulan di atas 5."
      ]
    },
    {
      "cell_type": "code",
      "metadata": {
        "id": "GlFFLj6oAf8t"
      },
      "source": [
        "from google.colab import drive\n",
        "drive.mount('/content/drive')"
      ],
      "execution_count": null,
      "outputs": []
    },
    {
      "cell_type": "code",
      "metadata": {
        "colab": {
          "base_uri": "https://localhost:8080/",
          "height": 363
        },
        "id": "2PsireGeANr8",
        "outputId": "8c0b5432-0425-4e2a-a828-e6e6e85dd229"
      },
      "source": [
        "#1. Membuat sebuah data frame pelanggan dari kolom yang sudah ditentukan\n",
        "# Tulis semua kolom dan data yang diperlukan dalam sebuah data frame\n",
        "df=pd.DataFrame({\n",
        "    'nama':['Abi', 'Bobi','Coki', 'Debi', 'Eki', 'Febi','Gigi','Hori','Indi','Jati'],\n",
        "    'tempat_lahir':['Alexandria','Bandung','California','Delhi','Esmeraldas','Fukuyama','Gotham','Hamburg', 'Islamabad','Jerusalem'],\n",
        "    'tanggal_lahir':['27/08/90','28/08/91','29/08/92','30/08/93','31/08/94','01/09/95','02/09/96','03/09/97','04/09/98','05/09/99'],\n",
        "    'belanja_terakhir':['27/08/21','28/08/21','29/08/21','30/08/21','31/08/21','01/09/21','02/09/21','03/09/21','04/09/21','05/09/21'],\n",
        "    'rata2_belanja': [500000,400000,300000,200000,90000,80000,70000,60000,600000,40000],\n",
        "    'total_transaksi': [10,5,8,7,6,9,4,3,2,3],\n",
        "})\n",
        "\n",
        "df"
      ],
      "execution_count": null,
      "outputs": [
        {
          "output_type": "execute_result",
          "data": {
            "text/html": [
              "<div>\n",
              "<style scoped>\n",
              "    .dataframe tbody tr th:only-of-type {\n",
              "        vertical-align: middle;\n",
              "    }\n",
              "\n",
              "    .dataframe tbody tr th {\n",
              "        vertical-align: top;\n",
              "    }\n",
              "\n",
              "    .dataframe thead th {\n",
              "        text-align: right;\n",
              "    }\n",
              "</style>\n",
              "<table border=\"1\" class=\"dataframe\">\n",
              "  <thead>\n",
              "    <tr style=\"text-align: right;\">\n",
              "      <th></th>\n",
              "      <th>nama</th>\n",
              "      <th>tempat_lahir</th>\n",
              "      <th>tanggal_lahir</th>\n",
              "      <th>belanja_terakhir</th>\n",
              "      <th>rata2_belanja</th>\n",
              "      <th>total_transaksi</th>\n",
              "    </tr>\n",
              "  </thead>\n",
              "  <tbody>\n",
              "    <tr>\n",
              "      <th>0</th>\n",
              "      <td>Abi</td>\n",
              "      <td>Alexandria</td>\n",
              "      <td>27/08/90</td>\n",
              "      <td>27/08/21</td>\n",
              "      <td>500000</td>\n",
              "      <td>10</td>\n",
              "    </tr>\n",
              "    <tr>\n",
              "      <th>1</th>\n",
              "      <td>Bobi</td>\n",
              "      <td>Bandung</td>\n",
              "      <td>28/08/91</td>\n",
              "      <td>28/08/21</td>\n",
              "      <td>400000</td>\n",
              "      <td>5</td>\n",
              "    </tr>\n",
              "    <tr>\n",
              "      <th>2</th>\n",
              "      <td>Coki</td>\n",
              "      <td>California</td>\n",
              "      <td>29/08/92</td>\n",
              "      <td>29/08/21</td>\n",
              "      <td>300000</td>\n",
              "      <td>8</td>\n",
              "    </tr>\n",
              "    <tr>\n",
              "      <th>3</th>\n",
              "      <td>Debi</td>\n",
              "      <td>Delhi</td>\n",
              "      <td>30/08/93</td>\n",
              "      <td>30/08/21</td>\n",
              "      <td>200000</td>\n",
              "      <td>7</td>\n",
              "    </tr>\n",
              "    <tr>\n",
              "      <th>4</th>\n",
              "      <td>Eki</td>\n",
              "      <td>Esmeraldas</td>\n",
              "      <td>31/08/94</td>\n",
              "      <td>31/08/21</td>\n",
              "      <td>90000</td>\n",
              "      <td>6</td>\n",
              "    </tr>\n",
              "    <tr>\n",
              "      <th>5</th>\n",
              "      <td>Febi</td>\n",
              "      <td>Fukuyama</td>\n",
              "      <td>01/09/95</td>\n",
              "      <td>01/09/21</td>\n",
              "      <td>80000</td>\n",
              "      <td>9</td>\n",
              "    </tr>\n",
              "    <tr>\n",
              "      <th>6</th>\n",
              "      <td>Gigi</td>\n",
              "      <td>Gotham</td>\n",
              "      <td>02/09/96</td>\n",
              "      <td>02/09/21</td>\n",
              "      <td>70000</td>\n",
              "      <td>4</td>\n",
              "    </tr>\n",
              "    <tr>\n",
              "      <th>7</th>\n",
              "      <td>Hori</td>\n",
              "      <td>Hamburg</td>\n",
              "      <td>03/09/97</td>\n",
              "      <td>03/09/21</td>\n",
              "      <td>60000</td>\n",
              "      <td>3</td>\n",
              "    </tr>\n",
              "    <tr>\n",
              "      <th>8</th>\n",
              "      <td>Indi</td>\n",
              "      <td>Islamabad</td>\n",
              "      <td>04/09/98</td>\n",
              "      <td>04/09/21</td>\n",
              "      <td>600000</td>\n",
              "      <td>2</td>\n",
              "    </tr>\n",
              "    <tr>\n",
              "      <th>9</th>\n",
              "      <td>Jati</td>\n",
              "      <td>Jerusalem</td>\n",
              "      <td>05/09/99</td>\n",
              "      <td>05/09/21</td>\n",
              "      <td>40000</td>\n",
              "      <td>3</td>\n",
              "    </tr>\n",
              "  </tbody>\n",
              "</table>\n",
              "</div>"
            ],
            "text/plain": [
              "   nama tempat_lahir  ... rata2_belanja total_transaksi\n",
              "0   Abi   Alexandria  ...        500000              10\n",
              "1  Bobi      Bandung  ...        400000               5\n",
              "2  Coki   California  ...        300000               8\n",
              "3  Debi        Delhi  ...        200000               7\n",
              "4   Eki   Esmeraldas  ...         90000               6\n",
              "5  Febi     Fukuyama  ...         80000               9\n",
              "6  Gigi       Gotham  ...         70000               4\n",
              "7  Hori      Hamburg  ...         60000               3\n",
              "8  Indi    Islamabad  ...        600000               2\n",
              "9  Jati    Jerusalem  ...         40000               3\n",
              "\n",
              "[10 rows x 6 columns]"
            ]
          },
          "metadata": {},
          "execution_count": 23
        }
      ]
    },
    {
      "cell_type": "code",
      "metadata": {
        "colab": {
          "base_uri": "https://localhost:8080/",
          "height": 143
        },
        "id": "Ok7FUBydE9Kj",
        "outputId": "6830af9e-cd65-45c2-c1dc-fa251ef1cce9"
      },
      "source": [
        "# 2. Memilih user paling loyal (rata2 belanha>100000&total transaksi>5)\n",
        "\n",
        "df[(df.rata2_belanja>100000)&(df.total_transaksi>5)]"
      ],
      "execution_count": null,
      "outputs": [
        {
          "output_type": "execute_result",
          "data": {
            "text/html": [
              "<div>\n",
              "<style scoped>\n",
              "    .dataframe tbody tr th:only-of-type {\n",
              "        vertical-align: middle;\n",
              "    }\n",
              "\n",
              "    .dataframe tbody tr th {\n",
              "        vertical-align: top;\n",
              "    }\n",
              "\n",
              "    .dataframe thead th {\n",
              "        text-align: right;\n",
              "    }\n",
              "</style>\n",
              "<table border=\"1\" class=\"dataframe\">\n",
              "  <thead>\n",
              "    <tr style=\"text-align: right;\">\n",
              "      <th></th>\n",
              "      <th>nama</th>\n",
              "      <th>tempat_lahir</th>\n",
              "      <th>tanggal_lahir</th>\n",
              "      <th>belanja_terakhir</th>\n",
              "      <th>rata2_belanja</th>\n",
              "      <th>total_transaksi</th>\n",
              "    </tr>\n",
              "  </thead>\n",
              "  <tbody>\n",
              "    <tr>\n",
              "      <th>0</th>\n",
              "      <td>Abi</td>\n",
              "      <td>Alexandria</td>\n",
              "      <td>27/08/90</td>\n",
              "      <td>27/08/21</td>\n",
              "      <td>500000</td>\n",
              "      <td>10</td>\n",
              "    </tr>\n",
              "    <tr>\n",
              "      <th>2</th>\n",
              "      <td>Coki</td>\n",
              "      <td>California</td>\n",
              "      <td>29/08/92</td>\n",
              "      <td>29/08/21</td>\n",
              "      <td>300000</td>\n",
              "      <td>8</td>\n",
              "    </tr>\n",
              "    <tr>\n",
              "      <th>3</th>\n",
              "      <td>Debi</td>\n",
              "      <td>Delhi</td>\n",
              "      <td>30/08/93</td>\n",
              "      <td>30/08/21</td>\n",
              "      <td>200000</td>\n",
              "      <td>7</td>\n",
              "    </tr>\n",
              "  </tbody>\n",
              "</table>\n",
              "</div>"
            ],
            "text/plain": [
              "   nama tempat_lahir  ... rata2_belanja total_transaksi\n",
              "0   Abi   Alexandria  ...        500000              10\n",
              "2  Coki   California  ...        300000               8\n",
              "3  Debi        Delhi  ...        200000               7\n",
              "\n",
              "[3 rows x 6 columns]"
            ]
          },
          "metadata": {},
          "execution_count": 24
        }
      ]
    }
  ]
}